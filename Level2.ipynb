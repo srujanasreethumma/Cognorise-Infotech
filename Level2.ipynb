{
 "cells": [
  {
   "cell_type": "markdown",
   "id": "8252e7ff",
   "metadata": {},
   "source": [
    "# LEVEL 2 TASK 1 - Table Booking and Online Delivery"
   ]
  },
  {
   "cell_type": "code",
   "execution_count": 1,
   "id": "ad99a861",
   "metadata": {},
   "outputs": [],
   "source": [
    "import pandas as pd"
   ]
  },
  {
   "cell_type": "code",
   "execution_count": 2,
   "id": "1adb02e8",
   "metadata": {},
   "outputs": [],
   "source": [
    "df = pd.read_csv(r\"C:\\Users\\SRUJANA SREE THUMMA\\Downloads\\Dataset.csv\")"
   ]
  },
  {
   "cell_type": "code",
   "execution_count": 3,
   "id": "3109083f",
   "metadata": {},
   "outputs": [],
   "source": [
    "#Determine the percentage of restaurants that offer table booking and online delivery."
   ]
  },
  {
   "cell_type": "code",
   "execution_count": 4,
   "id": "96318b23",
   "metadata": {},
   "outputs": [],
   "source": [
    "df['Has Table booking'] = df['Has Table booking'].map({'Yes': 1, 'No': 0})\n",
    "df['Has Online delivery'] = df['Has Online delivery'].map({'Yes': 1, 'No': 0})"
   ]
  },
  {
   "cell_type": "code",
   "execution_count": 5,
   "id": "6b851234",
   "metadata": {},
   "outputs": [],
   "source": [
    "total = len(df)"
   ]
  },
  {
   "cell_type": "code",
   "execution_count": 6,
   "id": "727f8cbc",
   "metadata": {},
   "outputs": [
    {
     "name": "stdout",
     "output_type": "stream",
     "text": [
      "9551\n"
     ]
    }
   ],
   "source": [
    "print(len(df))"
   ]
  },
  {
   "cell_type": "code",
   "execution_count": 7,
   "id": "d7116520",
   "metadata": {},
   "outputs": [],
   "source": [
    "table_booking = df['Has Table booking'].sum()"
   ]
  },
  {
   "cell_type": "code",
   "execution_count": 8,
   "id": "53312cb5",
   "metadata": {},
   "outputs": [
    {
     "name": "stdout",
     "output_type": "stream",
     "text": [
      "1158\n"
     ]
    }
   ],
   "source": [
    "print(table_booking)"
   ]
  },
  {
   "cell_type": "code",
   "execution_count": 9,
   "id": "e9245ae3",
   "metadata": {},
   "outputs": [],
   "source": [
    "online_delivery = df['Has Online delivery'].sum()"
   ]
  },
  {
   "cell_type": "code",
   "execution_count": 10,
   "id": "b4011a29",
   "metadata": {},
   "outputs": [
    {
     "name": "stdout",
     "output_type": "stream",
     "text": [
      "2451\n"
     ]
    }
   ],
   "source": [
    "print(online_delivery)"
   ]
  },
  {
   "cell_type": "code",
   "execution_count": 11,
   "id": "3bbaf016",
   "metadata": {},
   "outputs": [],
   "source": [
    "table_per = (table_booking / total) * 100\n",
    "online_per = (online_delivery / total) * 100"
   ]
  },
  {
   "cell_type": "code",
   "execution_count": 12,
   "id": "72445125",
   "metadata": {},
   "outputs": [
    {
     "name": "stdout",
     "output_type": "stream",
     "text": [
      "12.124384881164275\n",
      "25.662234321013504\n"
     ]
    }
   ],
   "source": [
    "print(table_per)\n",
    "print(online_per)"
   ]
  },
  {
   "cell_type": "code",
   "execution_count": 13,
   "id": "835c2b73",
   "metadata": {},
   "outputs": [],
   "source": [
    "#Compare the average ratings of restaurants with table booking and those without."
   ]
  },
  {
   "cell_type": "code",
   "execution_count": 14,
   "id": "4f3d7f36",
   "metadata": {},
   "outputs": [],
   "source": [
    "rating = {'Bad': 1, 'Average': 2, 'Good': 3, 'Very Good': 4, 'Excellent': 5}\n",
    "df['Rating text'] = df['Rating text'].map(rating)"
   ]
  },
  {
   "cell_type": "code",
   "execution_count": 15,
   "id": "75a8ce15",
   "metadata": {},
   "outputs": [],
   "source": [
    "with_table_booking = df[df['Has Table booking'] == 1]\n",
    "without_table_booking = df[df['Has Table booking'] == 0]"
   ]
  },
  {
   "cell_type": "code",
   "execution_count": 16,
   "id": "9f5a1c19",
   "metadata": {},
   "outputs": [],
   "source": [
    "avg_rating_with = with_table_booking['Rating text'].mean()\n",
    "avg_rating_without = without_table_booking['Rating text'].mean()"
   ]
  },
  {
   "cell_type": "code",
   "execution_count": 17,
   "id": "2786dc4f",
   "metadata": {},
   "outputs": [
    {
     "name": "stdout",
     "output_type": "stream",
     "text": [
      "2.9429622815087395\n",
      "2.674714518760196\n"
     ]
    }
   ],
   "source": [
    "print(avg_rating_with)\n",
    "print(avg_rating_without)"
   ]
  },
  {
   "cell_type": "code",
   "execution_count": 18,
   "id": "63f25a73",
   "metadata": {},
   "outputs": [],
   "source": [
    "#Analyze the availability of online delivery among restaurants with different price ranges."
   ]
  },
  {
   "cell_type": "code",
   "execution_count": 19,
   "id": "40ac3c01",
   "metadata": {},
   "outputs": [],
   "source": [
    "data = df.groupby('Price range')\n"
   ]
  },
  {
   "cell_type": "code",
   "execution_count": 20,
   "id": "661f4e90",
   "metadata": {},
   "outputs": [],
   "source": [
    "avail = data['Has Online delivery'].value_counts(normalize=True).unstack() * 100"
   ]
  },
  {
   "cell_type": "code",
   "execution_count": 21,
   "id": "a11598ef",
   "metadata": {},
   "outputs": [
    {
     "name": "stdout",
     "output_type": "stream",
     "text": [
      "Has Online delivery          0          1\n",
      "Price range                              \n",
      "1                    84.225923  15.774077\n",
      "2                    58.689367  41.310633\n",
      "3                    70.809659  29.190341\n",
      "4                    90.955631   9.044369\n"
     ]
    }
   ],
   "source": [
    "print(avail)"
   ]
  },
  {
   "cell_type": "code",
   "execution_count": 22,
   "id": "d4c9d3d6",
   "metadata": {},
   "outputs": [],
   "source": [
    "availability = data['Has Online delivery'].value_counts(normalize=False).unstack() * 100"
   ]
  },
  {
   "cell_type": "code",
   "execution_count": 23,
   "id": "b53ccd94",
   "metadata": {},
   "outputs": [
    {
     "name": "stdout",
     "output_type": "stream",
     "text": [
      "Has Online delivery       0       1\n",
      "Price range                        \n",
      "1                    374300   70100\n",
      "2                    182700  128600\n",
      "3                     99700   41100\n",
      "4                     53300    5300\n"
     ]
    }
   ],
   "source": [
    "print(availability)"
   ]
  },
  {
   "cell_type": "markdown",
   "id": "13baeb73",
   "metadata": {},
   "source": [
    "# LEVEL 2 TASK 2 - Price Range Analysis"
   ]
  },
  {
   "cell_type": "code",
   "execution_count": 24,
   "id": "49e98abd",
   "metadata": {},
   "outputs": [],
   "source": [
    "#Determine the most common price range among all the restaurants."
   ]
  },
  {
   "cell_type": "code",
   "execution_count": 25,
   "id": "553bb7c0",
   "metadata": {},
   "outputs": [
    {
     "name": "stdout",
     "output_type": "stream",
     "text": [
      "Price range\n",
      "1    2.369873\n",
      "2    2.631841\n",
      "3    3.262380\n",
      "4    3.423550\n",
      "Name: Rating text, dtype: float64\n"
     ]
    }
   ],
   "source": [
    "data1 = df.groupby('Price range')\n",
    "price_range = data1['Rating text'].mean()\n",
    "print(price_range)"
   ]
  },
  {
   "cell_type": "code",
   "execution_count": 26,
   "id": "7423af1a",
   "metadata": {},
   "outputs": [],
   "source": [
    "#Identify the color that represents the highest average rating among different price ranges."
   ]
  },
  {
   "cell_type": "code",
   "execution_count": 30,
   "id": "c865af1b",
   "metadata": {},
   "outputs": [
    {
     "name": "stdout",
     "output_type": "stream",
     "text": [
      "Highest average rating is 3.4235500878734624\n",
      "with color Dark Green\n"
     ]
    }
   ],
   "source": [
    "data2 = df.groupby('Price range')\n",
    "rating_by_price_range = data2['Rating text'].mean()\n",
    "highest = rating_by_price_range.max()\n",
    "corresponding_color = df.loc[df['Rating text'].idxmax(), 'Rating color']\n",
    "print(f\"Highest average rating is {highest}\")\n",
    "print(f\"with color {corresponding_color}\")"
   ]
  },
  {
   "cell_type": "code",
   "execution_count": 31,
   "id": "5547e04f",
   "metadata": {},
   "outputs": [],
   "source": [
    "#Calculate the average rating for each price range."
   ]
  },
  {
   "cell_type": "code",
   "execution_count": 32,
   "id": "7ebc13a5",
   "metadata": {},
   "outputs": [
    {
     "name": "stdout",
     "output_type": "stream",
     "text": [
      "Price range\n",
      "1    2.369873\n",
      "2    2.631841\n",
      "3    3.262380\n",
      "4    3.423550\n",
      "Name: Rating text, dtype: float64\n"
     ]
    }
   ],
   "source": [
    "cal = df.groupby('Price range')\n",
    "avg = cal['Rating text'].mean()\n",
    "print(avg)"
   ]
  },
  {
   "cell_type": "markdown",
   "id": "c94fa8f0",
   "metadata": {},
   "source": [
    "# LEVEL 2 TASK 3 - Feature Engineering"
   ]
  },
  {
   "cell_type": "code",
   "execution_count": 33,
   "id": "fdd9bf73",
   "metadata": {},
   "outputs": [],
   "source": [
    "#Extract additional features from the existing columns, such as the length of the restaurant name or address."
   ]
  },
  {
   "cell_type": "code",
   "execution_count": 34,
   "id": "8898a5b2",
   "metadata": {},
   "outputs": [],
   "source": [
    "df['length'] = df['Restaurant Name'].apply(len)\n",
    "df['addr_length'] = df['Address'].apply(len)"
   ]
  },
  {
   "cell_type": "code",
   "execution_count": 35,
   "id": "c1ea5c92",
   "metadata": {},
   "outputs": [
    {
     "name": "stdout",
     "output_type": "stream",
     "text": [
      "0       16\n",
      "1       16\n",
      "2       22\n",
      "3        4\n",
      "4       11\n",
      "        ..\n",
      "9546    11\n",
      "9547    12\n",
      "9548     5\n",
      "9549    11\n",
      "9550    24\n",
      "Name: length, Length: 9551, dtype: int64\n",
      "0        71\n",
      "1        67\n",
      "2        56\n",
      "3        70\n",
      "4        64\n",
      "       ... \n",
      "9546    103\n",
      "9547     77\n",
      "9548     73\n",
      "9549     75\n",
      "9550     65\n",
      "Name: addr_length, Length: 9551, dtype: int64\n"
     ]
    }
   ],
   "source": [
    "print(df['length'])\n",
    "print(df['addr_length'])\n"
   ]
  },
  {
   "cell_type": "code",
   "execution_count": 36,
   "id": "219c429a",
   "metadata": {},
   "outputs": [],
   "source": [
    "#Create new features like \"Has Table Booking\" or \"Has Online Delivery\" by encoding categorical variables."
   ]
  },
  {
   "cell_type": "code",
   "execution_count": 37,
   "id": "a7356124",
   "metadata": {},
   "outputs": [
    {
     "name": "stdout",
     "output_type": "stream",
     "text": [
      "   Restaurant ID         Restaurant Name  Country Code              City  \\\n",
      "0        6317637        Le Petit Souffle           162       Makati City   \n",
      "1        6304287        Izakaya Kikufuji           162       Makati City   \n",
      "2        6300002  Heat - Edsa Shangri-La           162  Mandaluyong City   \n",
      "3        6318506                    Ooma           162  Mandaluyong City   \n",
      "4        6314302             Sambo Kojin           162  Mandaluyong City   \n",
      "\n",
      "                                             Address  \\\n",
      "0  Third Floor, Century City Mall, Kalayaan Avenu...   \n",
      "1  Little Tokyo, 2277 Chino Roces Avenue, Legaspi...   \n",
      "2  Edsa Shangri-La, 1 Garden Way, Ortigas, Mandal...   \n",
      "3  Third Floor, Mega Fashion Hall, SM Megamall, O...   \n",
      "4  Third Floor, Mega Atrium, SM Megamall, Ortigas...   \n",
      "\n",
      "                                     Locality  \\\n",
      "0   Century City Mall, Poblacion, Makati City   \n",
      "1  Little Tokyo, Legaspi Village, Makati City   \n",
      "2  Edsa Shangri-La, Ortigas, Mandaluyong City   \n",
      "3      SM Megamall, Ortigas, Mandaluyong City   \n",
      "4      SM Megamall, Ortigas, Mandaluyong City   \n",
      "\n",
      "                                    Locality Verbose   Longitude   Latitude  \\\n",
      "0  Century City Mall, Poblacion, Makati City, Mak...  121.027535  14.565443   \n",
      "1  Little Tokyo, Legaspi Village, Makati City, Ma...  121.014101  14.553708   \n",
      "2  Edsa Shangri-La, Ortigas, Mandaluyong City, Ma...  121.056831  14.581404   \n",
      "3  SM Megamall, Ortigas, Mandaluyong City, Mandal...  121.056475  14.585318   \n",
      "4  SM Megamall, Ortigas, Mandaluyong City, Mandal...  121.057508  14.584450   \n",
      "\n",
      "                           Cuisines  ...  Has Online delivery  \\\n",
      "0        French, Japanese, Desserts  ...                  NaN   \n",
      "1                          Japanese  ...                  NaN   \n",
      "2  Seafood, Asian, Filipino, Indian  ...                  NaN   \n",
      "3                   Japanese, Sushi  ...                  NaN   \n",
      "4                  Japanese, Korean  ...                  NaN   \n",
      "\n",
      "  Is delivering now  Switch to order menu  Price range Aggregate rating  \\\n",
      "0                No                    No            3              4.8   \n",
      "1                No                    No            3              4.5   \n",
      "2                No                    No            4              4.4   \n",
      "3                No                    No            4              4.9   \n",
      "4                No                    No            4              4.8   \n",
      "\n",
      "  Rating color  Rating text  Votes length  addr_length  \n",
      "0   Dark Green          5.0    314     16           71  \n",
      "1   Dark Green          5.0    591     16           67  \n",
      "2        Green          4.0    270     22           56  \n",
      "3   Dark Green          5.0    365      4           70  \n",
      "4   Dark Green          5.0    229     11           64  \n",
      "\n",
      "[5 rows x 23 columns]\n"
     ]
    }
   ],
   "source": [
    "df['Has Table booking'] = df['Has Table booking'].map({'Yes': 1, 'No': 0})\n",
    "df['Has Online delivery'] = df['Has Online delivery'].map({'Yes': 1, 'No': 0})\n",
    "print(df.head())"
   ]
  },
  {
   "cell_type": "code",
   "execution_count": null,
   "id": "7fb086fb",
   "metadata": {},
   "outputs": [],
   "source": []
  }
 ],
 "metadata": {
  "kernelspec": {
   "display_name": "Python 3",
   "language": "python",
   "name": "python3"
  },
  "language_info": {
   "codemirror_mode": {
    "name": "ipython",
    "version": 3
   },
   "file_extension": ".py",
   "mimetype": "text/x-python",
   "name": "python",
   "nbconvert_exporter": "python",
   "pygments_lexer": "ipython3",
   "version": "3.9.13"
  }
 },
 "nbformat": 4,
 "nbformat_minor": 5
}
